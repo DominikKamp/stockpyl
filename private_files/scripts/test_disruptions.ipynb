{
 "cells": [
  {
   "cell_type": "code",
   "execution_count": 1,
   "id": "0ea5dce3",
   "metadata": {},
   "outputs": [],
   "source": [
    "# This is necessary in order to make the import statements work.\n",
    "import sys\n",
    "sys.path.append('/Users/larry/Documents/GitHub/stockpyl') # CHANGE TO YOUR DIRECTORY"
   ]
  },
  {
   "cell_type": "code",
   "execution_count": 2,
   "id": "5cde2c87",
   "metadata": {},
   "outputs": [],
   "source": [
    "from stockpyl import sim\n",
    "from stockpyl import sim_io\n",
    "from stockpyl import supply_chain_network\n",
    "from stockpyl import supply_chain_node\n",
    "from stockpyl import instances\n",
    "from stockpyl import policy\n",
    "from stockpyl import demand_source\n",
    "from stockpyl import disruption_process\n",
    "from stockpyl import supply_uncertainty"
   ]
  },
  {
   "cell_type": "code",
   "execution_count": 3,
   "id": "9429db2c",
   "metadata": {},
   "outputs": [],
   "source": [
    "import numpy as np\n",
    "from tqdm.notebook import tqdm\n",
    "import matplotlib.pyplot as plt"
   ]
  },
  {
   "cell_type": "code",
   "execution_count": 4,
   "id": "296f3888",
   "metadata": {},
   "outputs": [],
   "source": [
    "def simulation_experiment(network, num_periods, rand_seed=None):\n",
    "    # Lists to iterate over.\n",
    "    dt_list = ('OP', 'SP', 'TP', 'RP')\n",
    "    lt_list = list(range(1, 11))\n",
    "\n",
    "    # Progress bar.\n",
    "    pbar = tqdm(total=len(dt_list)*len(lt_list))\n",
    "    \n",
    "    # Rand seed.\n",
    "    np.random.seed(rand_seed)\n",
    "\n",
    "    # Results.\n",
    "    results = {}\n",
    "\n",
    "    # Loop through disruption types.\n",
    "    for dt in dt_list:\n",
    "        results[dt] = []\n",
    "\n",
    "        # Loop through lead times.\n",
    "        for lt in lt_list:\n",
    "            pbar.update()\n",
    "            \n",
    "            node0 = two_stage_determ.get_node_from_index(0)\n",
    "\n",
    "            # Get optimal BS level for newsvendor problem with disruptions.\n",
    "            S, _ = supply_uncertainty.newsvendor_with_disruptions(\n",
    "                node0.local_holding_cost, \n",
    "                node0.stockout_cost,\n",
    "                node0.demand_source.demand_list,\n",
    "                node0.disruption_process.disruption_probability,\n",
    "                node0.disruption_process.recovery_probability\n",
    "            )\n",
    "\n",
    "            # Fill parameters.\n",
    "            node0.shipment_lead_time = lt\n",
    "            node0.disruption_process.disruption_type = dt\n",
    "            node0.inventory_policy.base_stock_level = S + node0.demand_source.demand_list * (lt - 1)\n",
    "\n",
    "            # Simulate.\n",
    "            total_cost = sim.simulation(network=two_stage_determ, num_periods=num_periods, rand_seed=None, progress_bar=False)\n",
    "\n",
    "            # Store results.\n",
    "            results[dt].append(total_cost/num_periods)\n",
    "            \n",
    "    # ``results`` is a dictionary of lists: results['OP'] is a list of costs from simulations with each lead time\n",
    "    return results, lt_list"
   ]
  },
  {
   "cell_type": "code",
   "execution_count": 5,
   "id": "e2946a0f",
   "metadata": {},
   "outputs": [],
   "source": [
    "def plot_results(lt_list, results, title):\n",
    "    # Plot results.\n",
    "    plt.figure()\n",
    "    #plt.plot(lt_list, results['OP'], lt_list, results['SP'], lt_list, results['TP'], lt_list, results['RP'])\n",
    "    plt.plot(lt_list, results['OP'], marker='o', label='OP')\n",
    "    plt.plot(lt_list, results['SP'], marker='*', label='SP')\n",
    "    plt.plot(lt_list, results['TP'], marker='^', label='TP')\n",
    "    plt.plot(lt_list, results['RP'], marker='x', label='RP')\n",
    "    plt.legend()\n",
    "    plt.xlabel('Lead Time')\n",
    "    plt.ylabel('Avg. Cost/Period')\n",
    "    plt.title(title)\n",
    "    plt.show()"
   ]
  },
  {
   "cell_type": "markdown",
   "id": "0685b399",
   "metadata": {},
   "source": [
    "### Deterministic demand\n",
    "\n",
    "We'll build a 2-stage system (stage 1 --> stage 0). \n",
    "\n",
    "* $(h_0,h_1) = (2, 1)$\n",
    "* $p = 10$\n",
    "* $(L_1,L_2) = (L, 1)$ ($L$ varies throughout the experiment)\n",
    "* Demand is deterministic and equals 10 in every period\n",
    "* Both stages follow BS policy\n",
    "\n",
    "For the base-stock levels:\n",
    "* Node 0 (downstream) acts like a single-stage (newsvendor) system with disruptions, as in Section 9.2.2 of my book, if $L=1$. If $L>1$, I don't think we have exact formulas, so I just add $10(L-1)$ to the \"$L=1$\" base-stock level.\n",
    "* Node 1 (upstream) sees a demand of 10 in every period, even when there is a disruption, _except_ under **OP** disruptions. So I set $S_1=10$. (For **OP** disruptions, this is probably still optimal.)\n",
    "\n",
    "Summary:\n",
    "* $S_1=10$\n",
    "* $S_0=NVD() + 10(L-1)$, where $NVD()$ is the optimal base-stock level for newsvendor with disruptions."
   ]
  },
  {
   "cell_type": "code",
   "execution_count": 6,
   "id": "f7a3ead8",
   "metadata": {},
   "outputs": [],
   "source": [
    "# Build two-stage system with deterministic demand. 1 --> 0\n",
    "two_stage_determ = supply_chain_network.serial_system(\n",
    "\tnum_nodes=2,\n",
    "\tlocal_holding_cost=[2, 1],\n",
    "\tstockout_cost=[10, 0],\n",
    "\tshipment_lead_time=[1, 1], # L_0 will be re-set during the simulation experiment\n",
    "\tdemand_type='D',\n",
    "\tdemand_list=[10, 0],\n",
    "\tinventory_policy_type='BS',\n",
    "\tbase_stock_levels=[10, 10], # S_0 will be re-set during the simulation experiment\n",
    "\tdownstream_0=True\n",
    ")\n",
    "# Downstream stage (stage 0) is subject to disruptions.\n",
    "two_stage_determ.get_node_from_index(0).disruption_process = disruption_process.DisruptionProcess(\n",
    "\trandom_process_type='M',\n",
    "\tdisruption_type='OP', # this will be re-set during the simulation experiment\n",
    "\tdisruption_probability=0.05,\n",
    "\trecovery_probability=0.3\n",
    ")\n",
    "# Set ITHC=0 to avoid artificial increase in cost when L increases.\n",
    "for n in two_stage_determ.nodes:\n",
    "\tn.in_transit_holding_cost = 0"
   ]
  },
  {
   "cell_type": "code",
   "execution_count": 7,
   "id": "85030403",
   "metadata": {},
   "outputs": [
    {
     "data": {
      "application/vnd.jupyter.widget-view+json": {
       "model_id": "27d37246e427432cac62d0c67e86f7ff",
       "version_major": 2,
       "version_minor": 0
      },
      "text/plain": [
       "  0%|          | 0/40 [00:00<?, ?it/s]"
      ]
     },
     "metadata": {},
     "output_type": "display_data"
    },
    {
     "data": {
      "image/png": "[encoded data removed]",
      "text/plain": [
       "<Figure size 432x288 with 1 Axes>"
      ]
     },
     "metadata": {
      "needs_background": "light"
     },
     "output_type": "display_data"
    }
   ],
   "source": [
    "# Simulate with different disruption types and different lead times.\n",
    "results, lt_list = simulation_experiment(two_stage_determ, num_periods=1000, rand_seed=42)\n",
    "# Plot results.\n",
    "plot_results(lt_list, results, '2-Stage System, Deterministic Demand, alpha=0.05, beta=0.3, S=10*(L+1)')"
   ]
  },
  {
   "cell_type": "markdown",
   "id": "af011412",
   "metadata": {},
   "source": [
    "Disruption types **SP**, **TP**, and **RP** have the same cost. This makes sense for this simple two-stage system, because pausing shipments, pausing transit, and pausing receipt have exactly the same affect on the inventory levels at the two stages. In fact, since the demand is deterministic, \n",
    "\n",
    "[Why isn't cost higher in SP???]\n",
    "\n",
    "**OP** "
   ]
  },
  {
   "cell_type": "code",
   "execution_count": 19,
   "id": "45ccbcdb",
   "metadata": {},
   "outputs": [
    {
     "data": {
      "text/plain": [
       "[7889.5,\n",
       " 6519.4,\n",
       " 8269.8,\n",
       " 6393.3,\n",
       " 4436.9,\n",
       " 7186.5,\n",
       " 7196.3,\n",
       " 6911.8,\n",
       " 6067.7,\n",
       " 6508.4]"
      ]
     },
     "execution_count": 19,
     "metadata": {},
     "output_type": "execute_result"
    }
   ],
   "source": [
    "results['TP']"
   ]
  },
  {
   "cell_type": "markdown",
   "id": "60f05b74",
   "metadata": {},
   "source": [
    "---\n",
    "\n",
    "### Stochastic demand\n",
    "\n",
    "Same thing now, but with stochastic demand"
   ]
  },
  {
   "cell_type": "code",
   "execution_count": 14,
   "id": "c083fef4",
   "metadata": {},
   "outputs": [],
   "source": [
    "# Build two-stage system with random demand. 1 --> 0\n",
    "two_stage_stoch = supply_chain_network.serial_system(\n",
    "\tnum_nodes=2,\n",
    "\tlocal_holding_cost=[2, 1],\n",
    "\tstockout_cost=[10, 2],\n",
    "\tshipment_lead_time=[1, 1],\n",
    "\tdemand_type='N',\n",
    "\tdemand_mean=[10, 0],\n",
    "    demand_standard_deviation=[2, 0],\n",
    "\tinventory_policy_type='BS',\n",
    "\tbase_stock_levels=[10, 10],\n",
    "\tdownstream_0=False\n",
    ")\n",
    "# Downstream stage (stage 0) is subject to disruptions.\n",
    "two_stage_determ.get_node_from_index(0).disruption_process = disruption_process.DisruptionProcess(\n",
    "\trandom_process_type='M',\n",
    "\tdisruption_type='OP',\n",
    "\tdisruption_probability=0.05,\n",
    "\trecovery_probability=0.3\n",
    ")\n",
    "# Set ITHC=0 to avoid artificial increase in cost when L increases.\n",
    "for n in two_stage_determ.nodes:\n",
    "\tn.in_transit_holding_cost = 0"
   ]
  },
  {
   "cell_type": "code",
   "execution_count": 15,
   "id": "d5f70b9d",
   "metadata": {},
   "outputs": [
    {
     "data": {
      "application/vnd.jupyter.widget-view+json": {
       "model_id": "e5765d70a0404d4c94a7c73bdc41e9c6",
       "version_major": 2,
       "version_minor": 0
      },
      "text/plain": [
       "  0%|          | 0/40 [00:00<?, ?it/s]"
      ]
     },
     "metadata": {},
     "output_type": "display_data"
    },
    {
     "ename": "KeyboardInterrupt",
     "evalue": "",
     "output_type": "error",
     "traceback": [
      "\u001b[0;31m---------------------------------------------------------------------------\u001b[0m",
      "\u001b[0;31mKeyboardInterrupt\u001b[0m                         Traceback (most recent call last)",
      "\u001b[1;32m/Users/larry/Documents/GitHub/stockpyl/private_files/scripts/test_disruptions.ipynb Cell 12'\u001b[0m in \u001b[0;36m<cell line: 2>\u001b[0;34m()\u001b[0m\n\u001b[1;32m      <a href='vscode-notebook-cell:/Users/larry/Documents/GitHub/stockpyl/private_files/scripts/test_disruptions.ipynb#ch0000011?line=0'>1</a>\u001b[0m \u001b[39m# Simulate with different disruption types and different lead times.\u001b[39;00m\n\u001b[0;32m----> <a href='vscode-notebook-cell:/Users/larry/Documents/GitHub/stockpyl/private_files/scripts/test_disruptions.ipynb#ch0000011?line=1'>2</a>\u001b[0m results, lt_list \u001b[39m=\u001b[39m simulation_experiment(two_stage_stoch, num_periods\u001b[39m=\u001b[39;49m\u001b[39m10000\u001b[39;49m, rand_seed\u001b[39m=\u001b[39;49m\u001b[39m42\u001b[39;49m)\n\u001b[1;32m      <a href='vscode-notebook-cell:/Users/larry/Documents/GitHub/stockpyl/private_files/scripts/test_disruptions.ipynb#ch0000011?line=2'>3</a>\u001b[0m \u001b[39m# Plot results.\u001b[39;00m\n\u001b[1;32m      <a href='vscode-notebook-cell:/Users/larry/Documents/GitHub/stockpyl/private_files/scripts/test_disruptions.ipynb#ch0000011?line=3'>4</a>\u001b[0m plot_results(lt_list, results, \u001b[39m'\u001b[39m\u001b[39m2-Stage System, Stochastic Demand, alpha=0.05, beta=0.3, S=10*(L+1)\u001b[39m\u001b[39m'\u001b[39m)\n",
      "\u001b[1;32m/Users/larry/Documents/GitHub/stockpyl/private_files/scripts/test_disruptions.ipynb Cell 4'\u001b[0m in \u001b[0;36msimulation_experiment\u001b[0;34m(network, num_periods, rand_seed)\u001b[0m\n\u001b[1;32m     <a href='vscode-notebook-cell:/Users/larry/Documents/GitHub/stockpyl/private_files/scripts/test_disruptions.ipynb#ch0000003?line=36'>37</a>\u001b[0m node0\u001b[39m.\u001b[39minventory_policy\u001b[39m.\u001b[39mbase_stock_level \u001b[39m=\u001b[39m S \u001b[39m+\u001b[39m node0\u001b[39m.\u001b[39mdemand_source\u001b[39m.\u001b[39mdemand_list \u001b[39m*\u001b[39m (lt \u001b[39m-\u001b[39m \u001b[39m1\u001b[39m)\n\u001b[1;32m     <a href='vscode-notebook-cell:/Users/larry/Documents/GitHub/stockpyl/private_files/scripts/test_disruptions.ipynb#ch0000003?line=38'>39</a>\u001b[0m \u001b[39m# Simulate.\u001b[39;00m\n\u001b[0;32m---> <a href='vscode-notebook-cell:/Users/larry/Documents/GitHub/stockpyl/private_files/scripts/test_disruptions.ipynb#ch0000003?line=39'>40</a>\u001b[0m total_cost \u001b[39m=\u001b[39m sim\u001b[39m.\u001b[39;49msimulation(network\u001b[39m=\u001b[39;49mtwo_stage_determ, num_periods\u001b[39m=\u001b[39;49mnum_periods, rand_seed\u001b[39m=\u001b[39;49m\u001b[39mNone\u001b[39;49;00m, progress_bar\u001b[39m=\u001b[39;49m\u001b[39mFalse\u001b[39;49;00m)\n\u001b[1;32m     <a href='vscode-notebook-cell:/Users/larry/Documents/GitHub/stockpyl/private_files/scripts/test_disruptions.ipynb#ch0000003?line=41'>42</a>\u001b[0m \u001b[39m# Store results.\u001b[39;00m\n\u001b[1;32m     <a href='vscode-notebook-cell:/Users/larry/Documents/GitHub/stockpyl/private_files/scripts/test_disruptions.ipynb#ch0000003?line=42'>43</a>\u001b[0m results[dt]\u001b[39m.\u001b[39mappend(total_cost\u001b[39m/\u001b[39mnum_periods)\n",
      "File \u001b[0;32m~/Documents/GitHub/stockpyl/stockpyl/sim.py:114\u001b[0m, in \u001b[0;36msimulation\u001b[0;34m(network, num_periods, rand_seed, progress_bar)\u001b[0m\n\u001b[1;32m    <a href='file:///Users/larry/Documents/GitHub/stockpyl/stockpyl/sim.py?line=110'>111</a>\u001b[0m \u001b[39m# Generate shipments. Use depth-first search, starting at nodes with\u001b[39;00m\n\u001b[1;32m    <a href='file:///Users/larry/Documents/GitHub/stockpyl/stockpyl/sim.py?line=111'>112</a>\u001b[0m \u001b[39m# no predecessors, and propagating shipments downstream.\u001b[39;00m\n\u001b[1;32m    <a href='file:///Users/larry/Documents/GitHub/stockpyl/stockpyl/sim.py?line=112'>113</a>\u001b[0m \u001b[39mfor\u001b[39;00m n \u001b[39min\u001b[39;00m network\u001b[39m.\u001b[39msource_nodes:\n\u001b[0;32m--> <a href='file:///Users/larry/Documents/GitHub/stockpyl/stockpyl/sim.py?line=113'>114</a>\u001b[0m \tgenerate_downstream_shipments(n\u001b[39m.\u001b[39;49mindex, network, t, visited)\n\u001b[1;32m    <a href='file:///Users/larry/Documents/GitHub/stockpyl/stockpyl/sim.py?line=115'>116</a>\u001b[0m \u001b[39m# UPDATE COSTS, PIPELINES, ETC.\u001b[39;00m\n\u001b[1;32m    <a href='file:///Users/larry/Documents/GitHub/stockpyl/stockpyl/sim.py?line=116'>117</a>\u001b[0m \n\u001b[1;32m    <a href='file:///Users/larry/Documents/GitHub/stockpyl/stockpyl/sim.py?line=117'>118</a>\u001b[0m \u001b[39m# Set initial values for period t+1 state variables.\u001b[39;00m\n\u001b[1;32m    <a href='file:///Users/larry/Documents/GitHub/stockpyl/stockpyl/sim.py?line=118'>119</a>\u001b[0m initialize_next_period_state_vars(network, t)\n",
      "File \u001b[0;32m~/Documents/GitHub/stockpyl/stockpyl/sim.py:295\u001b[0m, in \u001b[0;36mgenerate_downstream_shipments\u001b[0;34m(node_index, network, period, visited)\u001b[0m\n\u001b[1;32m    <a href='file:///Users/larry/Documents/GitHub/stockpyl/stockpyl/sim.py?line=292'>293</a>\u001b[0m \u001b[39mfor\u001b[39;00m s \u001b[39min\u001b[39;00m \u001b[39mlist\u001b[39m(node\u001b[39m.\u001b[39msuccessors()):\n\u001b[1;32m    <a href='file:///Users/larry/Documents/GitHub/stockpyl/stockpyl/sim.py?line=293'>294</a>\u001b[0m \t\u001b[39mif\u001b[39;00m \u001b[39mnot\u001b[39;00m visited[s\u001b[39m.\u001b[39mindex]:\n\u001b[0;32m--> <a href='file:///Users/larry/Documents/GitHub/stockpyl/stockpyl/sim.py?line=294'>295</a>\u001b[0m \t\tgenerate_downstream_shipments(s\u001b[39m.\u001b[39;49mindex, network, period, visited)\n",
      "File \u001b[0;32m~/Documents/GitHub/stockpyl/stockpyl/sim.py:281\u001b[0m, in \u001b[0;36mgenerate_downstream_shipments\u001b[0;34m(node_index, network, period, visited)\u001b[0m\n\u001b[1;32m    <a href='file:///Users/larry/Documents/GitHub/stockpyl/stockpyl/sim.py?line=277'>278</a>\u001b[0m receive_inbound_shipments(node)\n\u001b[1;32m    <a href='file:///Users/larry/Documents/GitHub/stockpyl/stockpyl/sim.py?line=279'>280</a>\u001b[0m \u001b[39m# Convert raw materials to finished goods.\u001b[39;00m\n\u001b[0;32m--> <a href='file:///Users/larry/Documents/GitHub/stockpyl/stockpyl/sim.py?line=280'>281</a>\u001b[0m new_finished_goods \u001b[39m=\u001b[39m raw_materials_to_finished_goods(node)\n\u001b[1;32m    <a href='file:///Users/larry/Documents/GitHub/stockpyl/stockpyl/sim.py?line=282'>283</a>\u001b[0m \u001b[39m# Process outbound shipments.\u001b[39;00m\n\u001b[1;32m    <a href='file:///Users/larry/Documents/GitHub/stockpyl/stockpyl/sim.py?line=283'>284</a>\u001b[0m process_outbound_shipments(node, starting_inventory_level, new_finished_goods)\n",
      "File \u001b[0;32m~/Documents/GitHub/stockpyl/stockpyl/sim.py:518\u001b[0m, in \u001b[0;36mraw_materials_to_finished_goods\u001b[0;34m(node)\u001b[0m\n\u001b[1;32m    <a href='file:///Users/larry/Documents/GitHub/stockpyl/stockpyl/sim.py?line=499'>500</a>\u001b[0m \u001b[39m\"\"\"Process raw materials to convert them to finished goods:\u001b[39;00m\n\u001b[1;32m    <a href='file:///Users/larry/Documents/GitHub/stockpyl/stockpyl/sim.py?line=500'>501</a>\u001b[0m \n\u001b[1;32m    <a href='file:///Users/larry/Documents/GitHub/stockpyl/stockpyl/sim.py?line=501'>502</a>\u001b[0m \u001b[39m\t* Remove items from raw material inventory.\u001b[39;00m\n\u001b[0;32m   (...)\u001b[0m\n\u001b[1;32m    <a href='file:///Users/larry/Documents/GitHub/stockpyl/stockpyl/sim.py?line=513'>514</a>\u001b[0m \n\u001b[1;32m    <a href='file:///Users/larry/Documents/GitHub/stockpyl/stockpyl/sim.py?line=514'>515</a>\u001b[0m \u001b[39m\"\"\"\u001b[39;00m\n\u001b[1;32m    <a href='file:///Users/larry/Documents/GitHub/stockpyl/stockpyl/sim.py?line=515'>516</a>\u001b[0m \u001b[39m# Determine number of units that can be processed.\u001b[39;00m\n\u001b[1;32m    <a href='file:///Users/larry/Documents/GitHub/stockpyl/stockpyl/sim.py?line=516'>517</a>\u001b[0m \u001b[39m# TODO: handle BOM\u001b[39;00m\n\u001b[0;32m--> <a href='file:///Users/larry/Documents/GitHub/stockpyl/stockpyl/sim.py?line=517'>518</a>\u001b[0m new_finished_goods \u001b[39m=\u001b[39m np\u001b[39m.\u001b[39mmin([node\u001b[39m.\u001b[39mstate_vars_current\u001b[39m.\u001b[39mraw_material_inventory[p_index]\n\u001b[1;32m    <a href='file:///Users/larry/Documents/GitHub/stockpyl/stockpyl/sim.py?line=518'>519</a>\u001b[0m \t\t\t\t\t\u001b[39mfor\u001b[39;00m p_index \u001b[39min\u001b[39;00m node\u001b[39m.\u001b[39mpredecessor_indices(include_external\u001b[39m=\u001b[39m\u001b[39mTrue\u001b[39;00m)])\n\u001b[1;32m    <a href='file:///Users/larry/Documents/GitHub/stockpyl/stockpyl/sim.py?line=520'>521</a>\u001b[0m \u001b[39m# Process units: remove from raw material inventory and add to finished goods.\u001b[39;00m\n\u001b[1;32m    <a href='file:///Users/larry/Documents/GitHub/stockpyl/stockpyl/sim.py?line=521'>522</a>\u001b[0m \u001b[39mfor\u001b[39;00m p_index \u001b[39min\u001b[39;00m node\u001b[39m.\u001b[39mpredecessor_indices(include_external\u001b[39m=\u001b[39m\u001b[39mTrue\u001b[39;00m):\n",
      "File \u001b[0;32m~/Documents/GitHub/stockpyl/stockpyl/sim.py:518\u001b[0m, in \u001b[0;36m<listcomp>\u001b[0;34m(.0)\u001b[0m\n\u001b[1;32m    <a href='file:///Users/larry/Documents/GitHub/stockpyl/stockpyl/sim.py?line=499'>500</a>\u001b[0m \u001b[39m\"\"\"Process raw materials to convert them to finished goods:\u001b[39;00m\n\u001b[1;32m    <a href='file:///Users/larry/Documents/GitHub/stockpyl/stockpyl/sim.py?line=500'>501</a>\u001b[0m \n\u001b[1;32m    <a href='file:///Users/larry/Documents/GitHub/stockpyl/stockpyl/sim.py?line=501'>502</a>\u001b[0m \u001b[39m\t* Remove items from raw material inventory.\u001b[39;00m\n\u001b[0;32m   (...)\u001b[0m\n\u001b[1;32m    <a href='file:///Users/larry/Documents/GitHub/stockpyl/stockpyl/sim.py?line=513'>514</a>\u001b[0m \n\u001b[1;32m    <a href='file:///Users/larry/Documents/GitHub/stockpyl/stockpyl/sim.py?line=514'>515</a>\u001b[0m \u001b[39m\"\"\"\u001b[39;00m\n\u001b[1;32m    <a href='file:///Users/larry/Documents/GitHub/stockpyl/stockpyl/sim.py?line=515'>516</a>\u001b[0m \u001b[39m# Determine number of units that can be processed.\u001b[39;00m\n\u001b[1;32m    <a href='file:///Users/larry/Documents/GitHub/stockpyl/stockpyl/sim.py?line=516'>517</a>\u001b[0m \u001b[39m# TODO: handle BOM\u001b[39;00m\n\u001b[0;32m--> <a href='file:///Users/larry/Documents/GitHub/stockpyl/stockpyl/sim.py?line=517'>518</a>\u001b[0m new_finished_goods \u001b[39m=\u001b[39m np\u001b[39m.\u001b[39mmin([node\u001b[39m.\u001b[39;49mstate_vars_current\u001b[39m.\u001b[39mraw_material_inventory[p_index]\n\u001b[1;32m    <a href='file:///Users/larry/Documents/GitHub/stockpyl/stockpyl/sim.py?line=518'>519</a>\u001b[0m \t\t\t\t\t\u001b[39mfor\u001b[39;00m p_index \u001b[39min\u001b[39;00m node\u001b[39m.\u001b[39mpredecessor_indices(include_external\u001b[39m=\u001b[39m\u001b[39mTrue\u001b[39;00m)])\n\u001b[1;32m    <a href='file:///Users/larry/Documents/GitHub/stockpyl/stockpyl/sim.py?line=520'>521</a>\u001b[0m \u001b[39m# Process units: remove from raw material inventory and add to finished goods.\u001b[39;00m\n\u001b[1;32m    <a href='file:///Users/larry/Documents/GitHub/stockpyl/stockpyl/sim.py?line=521'>522</a>\u001b[0m \u001b[39mfor\u001b[39;00m p_index \u001b[39min\u001b[39;00m node\u001b[39m.\u001b[39mpredecessor_indices(include_external\u001b[39m=\u001b[39m\u001b[39mTrue\u001b[39;00m):\n",
      "File \u001b[0;32m~/Documents/GitHub/stockpyl/stockpyl/supply_chain_node.py:258\u001b[0m, in \u001b[0;36mSupplyChainNode.state_vars_current\u001b[0;34m(self)\u001b[0m\n\u001b[1;32m    <a href='file:///Users/larry/Documents/GitHub/stockpyl/stockpyl/supply_chain_node.py?line=253'>254</a>\u001b[0m \t\u001b[39mreturn\u001b[39;00m np\u001b[39m.\u001b[39msqrt(DDV)\n\u001b[1;32m    <a href='file:///Users/larry/Documents/GitHub/stockpyl/stockpyl/supply_chain_node.py?line=255'>256</a>\u001b[0m \u001b[39m# Properties related to state variables.\u001b[39;00m\n\u001b[0;32m--> <a href='file:///Users/larry/Documents/GitHub/stockpyl/stockpyl/supply_chain_node.py?line=257'>258</a>\u001b[0m \u001b[39m@property\u001b[39m\n\u001b[1;32m    <a href='file:///Users/larry/Documents/GitHub/stockpyl/stockpyl/supply_chain_node.py?line=258'>259</a>\u001b[0m \u001b[39mdef\u001b[39;00m \u001b[39mstate_vars_current\u001b[39m(\u001b[39mself\u001b[39m):\n\u001b[1;32m    <a href='file:///Users/larry/Documents/GitHub/stockpyl/stockpyl/supply_chain_node.py?line=259'>260</a>\u001b[0m \t\u001b[39m# An alias for the most recent set of state variables. Read only.\u001b[39;00m\n\u001b[1;32m    <a href='file:///Users/larry/Documents/GitHub/stockpyl/stockpyl/supply_chain_node.py?line=260'>261</a>\u001b[0m \t\u001b[39mreturn\u001b[39;00m \u001b[39mself\u001b[39m\u001b[39m.\u001b[39mstate_vars[\u001b[39mself\u001b[39m\u001b[39m.\u001b[39mnetwork\u001b[39m.\u001b[39mperiod]\n\u001b[1;32m    <a href='file:///Users/larry/Documents/GitHub/stockpyl/stockpyl/supply_chain_node.py?line=262'>263</a>\u001b[0m \u001b[39m@property\u001b[39m\n\u001b[1;32m    <a href='file:///Users/larry/Documents/GitHub/stockpyl/stockpyl/supply_chain_node.py?line=263'>264</a>\u001b[0m \u001b[39mdef\u001b[39;00m \u001b[39mdisrupted\u001b[39m(\u001b[39mself\u001b[39m):\n\u001b[1;32m    <a href='file:///Users/larry/Documents/GitHub/stockpyl/stockpyl/supply_chain_node.py?line=264'>265</a>\u001b[0m \t\u001b[39m# Is the node currently disrupted? Works even if the node has no DisruptionProcess object.\u001b[39;00m\n",
      "\u001b[0;31mKeyboardInterrupt\u001b[0m: "
     ]
    }
   ],
   "source": [
    "# Simulate with different disruption types and different lead times.\n",
    "results, lt_list = simulation_experiment(two_stage_stoch, num_periods=10000, rand_seed=42)\n",
    "# Plot results.\n",
    "plot_results(lt_list, results, '2-Stage System, Stochastic Demand, alpha=0.05, beta=0.3, S=10*(L+1)')"
   ]
  },
  {
   "cell_type": "code",
   "execution_count": 73,
   "id": "70bca5e1",
   "metadata": {},
   "outputs": [
    {
     "data": {
      "text/plain": [
       "0"
      ]
     },
     "execution_count": 73,
     "metadata": {},
     "output_type": "execute_result"
    }
   ],
   "source": [
    "two_stage_determ.nodes[1].index\n"
   ]
  },
  {
   "cell_type": "code",
   "execution_count": null,
   "id": "a614dab5",
   "metadata": {},
   "outputs": [],
   "source": []
  }
 ],
 "metadata": {
  "interpreter": {
   "hash": "da3a4e8bf8f0a0068508c5babca5523c757813d380897af1c9375bacf289eb7d"
  },
  "kernelspec": {
   "display_name": "Python 3.8.13 ('mainenv')",
   "language": "python",
   "name": "python3"
  },
  "language_info": {
   "codemirror_mode": {
    "name": "ipython",
    "version": 3
   },
   "file_extension": ".py",
   "mimetype": "text/x-python",
   "name": "python",
   "nbconvert_exporter": "python",
   "pygments_lexer": "ipython3",
   "version": "3.8.13"
  }
 },
 "nbformat": 4,
 "nbformat_minor": 5
}
