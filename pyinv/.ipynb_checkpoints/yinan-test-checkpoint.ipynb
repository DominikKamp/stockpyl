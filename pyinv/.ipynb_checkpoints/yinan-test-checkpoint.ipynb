{
 "cells": [
  {
   "cell_type": "code",
   "execution_count": 24,
   "metadata": {},
   "outputs": [],
   "source": [
    "import time\n",
    "import tabulate\n",
    "from scipy import stats\n",
    "from scipy import optimize\n",
    "import matplotlib.pyplot as plt\n",
    "\n",
    "import sys \n",
    "sys.path.append(\"/Users/larry/Documents/GitHubProjects/inventory\") \n",
    "\n",
    "from inventory.gsm_tree import *\n",
    "from inventory.gsm_tree_helpers import *\n",
    "from inventory.ssm_serial import *"
   ]
  },
  {
   "cell_type": "markdown",
   "metadata": {},
   "source": [
    "## Introduction\n",
    "\n",
    "This script contains examples to demonstrate the use of `gsm_tree.py,` which implements the\n",
    "dynamic programming algorithm for the guaranteed-service model (GSM)\n",
    "for multi-echelon inventory systems with tree structures by Graves and Willems (2000).\n",
    "\n",
    "'node' and 'stage' are used interchangeably in the documentation.\n",
    "\n",
    "The primary data object is the `NetworkX DiGraph`, which contains all of the data\n",
    "for the GSM instance. The following attributes are used to specify input data:\n",
    "* Node-level attributes\n",
    "    - processing_time [T]\n",
    "    - external_inbound_cst [si]\n",
    "    - external_outbound_cst [s]\n",
    "    - holding_cost [h]\n",
    "    - demand_bound_constant [z_alpha]\n",
    "    - external_demand_mean [mu]\n",
    "    - external_demand_standard_deviation [sigma]\n",
    "* Edge-level attributes\n",
    "    - units_required (e.g., on edge i->j, units_required units of item i are\n",
    "required to make 1 unit of item j)\n",
    "\n",
    "When adding nodes using `nx.DiGraph.add_node()`, you can add attributes as\n",
    "arguments to `add_node()`. Subsequently, to get or set node attributes, the node\n",
    "is treated like a dict with the attributes as keys (as strings), so use\n",
    "`node['holding_cost']`, etc.\n",
    "\n",
    "(c) Lawrence V. Snyder\n",
    "Lehigh University and Opex Analytics"
   ]
  },
  {
   "cell_type": "code",
   "execution_count": 25,
   "metadata": {},
   "outputs": [],
   "source": [
    "# Function that takes k as parameter and does the optimization.\n",
    "def opt_wrt_k(k, tree):\n",
    "    for n in tree.nodes:\n",
    "        tree.nodes[n]['demand_bound_constant'] = k\n",
    "    tree = preprocess_tree(tree)\n",
    "    opt_cost, _ = optimize_committed_service_times(tree)\n",
    "    \n",
    "    return opt_cost"
   ]
  },
  {
   "cell_type": "code",
   "execution_count": 26,
   "metadata": {},
   "outputs": [],
   "source": [
    "def optimize_k(tree, low=0, high=20, tol=1.0e-6):\n",
    "    delta = 0.01\n",
    "\n",
    "    k_lo = low\n",
    "    k_hi = high\n",
    "    k = (k_hi - k_lo) / 2\n",
    "    \n",
    "    # Calculate cost for initial k.\n",
    "    cost = opt_wrt_k(k, tree)\n",
    "    # Estimate derivative.\n",
    "    deriv = (opt_wrt_k(k+delta, tree) - opt_wrt_k(k-delta, tree)) / (2 * delta)\n",
    "    \n",
    "    # Bisection search.\n",
    "    while abs(deriv) > tol and k - tol > low and k + tol < high:\n",
    "        # Update bounds.\n",
    "        if deriv < 0:\n",
    "            k_lo = k\n",
    "        else:\n",
    "            k_hi = k\n",
    "            \n",
    "        # Update k.\n",
    "        k = (k_hi - k_lo) / 2\n",
    "        \n",
    "        # Calculate cost for current k.\n",
    "        cost = opt_wrt_k(k, tree)\n",
    "        # Estimate derivative.\n",
    "        deriv = (opt_wrt_k(k+delta, tree) - opt_wrt_k(k-delta, tree)) / (2 * delta)\n",
    "        \n",
    "        print(\"k = {} cost = {} deriv = {}\".format(k, cost, deriv))\n",
    "        \n",
    "    return k"
   ]
  },
  {
   "cell_type": "code",
   "execution_count": 27,
   "metadata": {},
   "outputs": [],
   "source": [
    "def SSM_cost(tree, cst, p):\n",
    "    # Calculate expected cost under SSM cost function. Assumes serial system.\n",
    "    SSM_tree = GSM_to_SSM(tree, p)\n",
    "\n",
    "    local_BSL = base_stock_levels(tree, tree.nodes, cst)\n",
    "    echelon_BSL = ssm_serial.local_to_echelon_base_stock_levels(tree, local_BSL)\n",
    "\n",
    "    return ssm_serial.expected_cost(tree, echelon_BSL)\n",
    "    \n"
   ]
  },
  {
   "cell_type": "markdown",
   "metadata": {},
   "source": [
    "### Single-stage network.\n",
    "First build a single stage network. Generate a lot of random\n",
    "data and confirm that k* = F^{-1}(p/p+h) every time."
   ]
  },
  {
   "cell_type": "code",
   "execution_count": 30,
   "metadata": {},
   "outputs": [],
   "source": [
    "# Create a new DiGraph object.\n",
    "single_stage = nx.DiGraph()\n",
    "\n",
    "# Add node.\n",
    "single_stage.add_node(1, processing_time=1,\n",
    "                     external_inbound_cst=0,\n",
    "                     external_outbound_cst=0,\n",
    "                     holding_cost=2,\n",
    "                     demand_bound_constant=1,\n",
    "                     external_demand_mean=10,\n",
    "                     external_demand_standard_deviation=2)\n",
    "\n",
    "# Preprocess.\n",
    "single_stage = preprocess_tree(single_stage)\n",
    "\n",
    "#opt_cost, opt_cst = optimize_committed_service_times(single_stage)"
   ]
  },
  {
   "cell_type": "code",
   "execution_count": 31,
   "metadata": {},
   "outputs": [
    {
     "ename": "NameError",
     "evalue": "name 'gsm_tree_helpers' is not defined",
     "output_type": "error",
     "traceback": [
      "\u001b[0;31m---------------------------------------------------------------------------\u001b[0m",
      "\u001b[0;31mNameError\u001b[0m                                 Traceback (most recent call last)",
      "\u001b[0;32m<ipython-input-31-fdc3829255b1>\u001b[0m in \u001b[0;36m<module>\u001b[0;34m\u001b[0m\n\u001b[1;32m      4\u001b[0m \u001b[0mcost_SSM\u001b[0m \u001b[0;34m=\u001b[0m \u001b[0;34m[\u001b[0m\u001b[0;34m]\u001b[0m\u001b[0;34m\u001b[0m\u001b[0;34m\u001b[0m\u001b[0m\n\u001b[1;32m      5\u001b[0m \u001b[0;32mfor\u001b[0m \u001b[0mi\u001b[0m \u001b[0;32min\u001b[0m \u001b[0mrange\u001b[0m\u001b[0;34m(\u001b[0m\u001b[0mlen\u001b[0m\u001b[0;34m(\u001b[0m\u001b[0mBSL_vec\u001b[0m\u001b[0;34m)\u001b[0m\u001b[0;34m)\u001b[0m\u001b[0;34m:\u001b[0m\u001b[0;34m\u001b[0m\u001b[0;34m\u001b[0m\u001b[0m\n\u001b[0;32m----> 6\u001b[0;31m     \u001b[0mcost_GSM\u001b[0m\u001b[0;34m[\u001b[0m\u001b[0mi\u001b[0m\u001b[0;34m]\u001b[0m \u001b[0;34m=\u001b[0m \u001b[0mgsm_tree_helpers\u001b[0m\u001b[0;34m.\u001b[0m\u001b[0msolution_cost_from_base_stock_levels\u001b[0m\u001b[0;34m(\u001b[0m\u001b[0msingle_stage\u001b[0m\u001b[0;34m,\u001b[0m \u001b[0;34m{\u001b[0m\u001b[0;36m1\u001b[0m\u001b[0;34m:\u001b[0m \u001b[0mBSL_vec\u001b[0m\u001b[0;34m[\u001b[0m\u001b[0mi\u001b[0m\u001b[0;34m]\u001b[0m\u001b[0;34m}\u001b[0m\u001b[0;34m)\u001b[0m\u001b[0;34m\u001b[0m\u001b[0;34m\u001b[0m\u001b[0m\n\u001b[0m\u001b[1;32m      7\u001b[0m     \u001b[0msingle_stage_SSM\u001b[0m\u001b[0;34m[\u001b[0m\u001b[0mi\u001b[0m\u001b[0;34m]\u001b[0m \u001b[0;34m=\u001b[0m \u001b[0mGSM_to_SSM\u001b[0m\u001b[0;34m(\u001b[0m\u001b[0msingle_stage\u001b[0m\u001b[0;34m)\u001b[0m\u001b[0;34m\u001b[0m\u001b[0;34m\u001b[0m\u001b[0m\n\u001b[1;32m      8\u001b[0m     \u001b[0mcost_SSM\u001b[0m\u001b[0;34m[\u001b[0m\u001b[0mi\u001b[0m\u001b[0;34m]\u001b[0m \u001b[0;34m=\u001b[0m \u001b[0mexpected_cost\u001b[0m\u001b[0;34m(\u001b[0m\u001b[0msingle_stage_SSM\u001b[0m\u001b[0;34m,\u001b[0m \u001b[0;34m{\u001b[0m\u001b[0;36m1\u001b[0m\u001b[0;34m:\u001b[0m \u001b[0mBSL_vec\u001b[0m\u001b[0;34m[\u001b[0m\u001b[0mi\u001b[0m\u001b[0;34m]\u001b[0m\u001b[0;34m}\u001b[0m\u001b[0;34m)\u001b[0m\u001b[0;34m\u001b[0m\u001b[0;34m\u001b[0m\u001b[0m\n",
      "\u001b[0;31mNameError\u001b[0m: name 'gsm_tree_helpers' is not defined"
     ]
    }
   ],
   "source": [
    "# Plot cost vs. BSL.\n",
    "BSL_vec = np.arange(5, 15, 0.5)\n",
    "cost_GSM = []\n",
    "cost_SSM = []\n",
    "for i in range(len(BSL_vec)):\n",
    "    cost_GSM[i] = solution_cost_from_base_stock_levels(single_stage, {1: BSL_vec[i]})\n",
    "    single_stage_SSM[i] = GSM_to_SSM(single_stage)\n",
    "    cost_SSM[i] = expected_cost(single_stage_SSM, {1: BSL_vec[i]})\n",
    "plt.plot(BSL_vec, cost_GSM, BSL_vec, cost_SSM)"
   ]
  },
  {
   "cell_type": "code",
   "execution_count": 31,
   "metadata": {},
   "outputs": [
    {
     "data": {
      "text/plain": [
       "[<matplotlib.lines.Line2D at 0x1a18073588>]"
      ]
     },
     "execution_count": 31,
     "metadata": {},
     "output_type": "execute_result"
    },
    {
     "data": {
      "image/png": "[encoded data removed]",
      "text/plain": [
       "<Figure size 432x288 with 1 Axes>"
      ]
     },
     "metadata": {
      "needs_background": "light"
     },
     "output_type": "display_data"
    }
   ],
   "source": [
    "# Plot cost vs k.\n",
    "k_vec = np.arange(0, 5, 0.1)\n",
    "cost_vec = [opt_wrt_k(k, single_stage) for k in k_vec]\n",
    "plt.plot(k_vec, cost_vec)"
   ]
  },
  {
   "cell_type": "code",
   "execution_count": 25,
   "metadata": {},
   "outputs": [
    {
     "name": "stdout",
     "output_type": "stream",
     "text": [
      "k = 5.0 cost = 10.0 deriv = 1.9999999999999574\n",
      "k = 2.5 cost = 5.0 deriv = 1.9999999999999574\n",
      "k = 1.25 cost = 2.5 deriv = 2.0000000000000018\n",
      "k = 0.625 cost = 1.25 deriv = 2.0000000000000018\n",
      "k = 0.3125 cost = 0.625 deriv = 2.0000000000000018\n",
      "k = 0.15625 cost = 0.3125 deriv = 2.0000000000000018\n",
      "k = 0.078125 cost = 0.15625 deriv = 1.999999999999999\n",
      "k = 0.0390625 cost = 0.078125 deriv = 2.0000000000000004\n",
      "k = 0.01953125 cost = 0.0390625 deriv = 2.0000000000000004\n",
      "k = 0.009765625 cost = 0.01953125 deriv = 2.0000000000000004\n",
      "k = 0.0048828125 cost = 0.009765625 deriv = 2.0\n",
      "k = 0.00244140625 cost = 0.0048828125 deriv = 2.0\n",
      "k = 0.001220703125 cost = 0.00244140625 deriv = 2.0\n",
      "k = 0.0006103515625 cost = 0.001220703125 deriv = 2.0\n",
      "k = 0.00030517578125 cost = 0.0006103515625 deriv = 2.0\n",
      "k = 0.000152587890625 cost = 0.00030517578125 deriv = 2.0\n",
      "k = 7.62939453125e-05 cost = 0.000152587890625 deriv = 2.0\n",
      "k = 3.814697265625e-05 cost = 7.62939453125e-05 deriv = 2.0\n",
      "k = 1.9073486328125e-05 cost = 3.814697265625e-05 deriv = 2.0\n",
      "k = 9.5367431640625e-06 cost = 1.9073486328125e-05 deriv = 2.0\n",
      "k = 4.76837158203125e-06 cost = 9.5367431640625e-06 deriv = 2.0\n",
      "k = 2.384185791015625e-06 cost = 4.76837158203125e-06 deriv = 2.0\n",
      "k = 1.1920928955078125e-06 cost = 2.384185791015625e-06 deriv = 2.0\n",
      "k = 5.960464477539062e-07 cost = 1.1920928955078125e-06 deriv = 2.0\n"
     ]
    },
    {
     "data": {
      "text/plain": [
       "5.960464477539062e-07"
      ]
     },
     "execution_count": 25,
     "metadata": {},
     "output_type": "execute_result"
    }
   ],
   "source": [
    "# Find optimal k.\n",
    "k_star = optimize_k(single_stage)\n",
    "k_star"
   ]
  },
  {
   "cell_type": "code",
   "execution_count": null,
   "metadata": {},
   "outputs": [],
   "source": [
    "# Create a new DiGraph object.\n",
    "tree = nx.DiGraph()\n",
    "\n",
    "# Add nodes, with the relevant attributes. Attributes are specified as\n",
    "# arguments to add_node().\n",
    "tree.add_node(1, processing_time=1,\n",
    "\t\t\t\t\texternal_inbound_cst=0,\n",
    "\t\t\t\t\tholding_cost=1,\n",
    "\t\t\t\t\tdemand_bound_constant=1)\n",
    "ex65_graph.add_node(2, processing_time=1,\n",
    "\t\t\t\t\texternal_outbound_cst=0,\n",
    "\t\t\t\t\tholding_cost=3,\n",
    "\t\t\t\t\tdemand_bound_constant=1,\n",
    "\t\t\t\t\texternal_demand_standard_deviation=1)\n",
    "ex65_graph.add_node(3, processing_time=1,\n",
    "\t\t\t\t\tholding_cost=2,\n",
    "\t\t\t\t\tdemand_bound_constant=1)\n",
    "ex65_graph.add_node(4, processing_time=1,\n",
    "\t\t\t\t\texternal_outbound_cst=1,\n",
    "\t\t\t\t\tholding_cost=3,\n",
    "\t\t\t\t\tdemand_bound_constant=1,\n",
    "\t\t\t\t\texternal_demand_standard_deviation=1)\n",
    "\n",
    "# Add edges. (units_required is the only edge attribute, but we don't need\n",
    "# it here because it equals 1 for every edge.)\n",
    "ex65_graph.add_edge(1, 3)\n",
    "ex65_graph.add_edge(3, 2)\n",
    "ex65_graph.add_edge(3, 4)\n",
    "\n",
    "# We can add any arbitrary attributes we want to the graph, nodes, and edges.\n",
    "# Here, we'll add a label to the graph.\n",
    "ex65_graph.graph['problem_name'] = 'Example 6.5 instance'"
   ]
  },
  {
   "cell_type": "code",
   "execution_count": null,
   "metadata": {},
   "outputs": [],
   "source": [
    "# We have to preprocess the graph before we can solve the model or perform\n",
    "# other functions. Preprocessing calculates some intermediate quantities, fills\n",
    "# in some missing attributes, etc. Note that preprocess_tree() returns a new graph,\n",
    "# it does not modify the original graph. In the line below, we just replace the\n",
    "# old one with the new one.\n",
    "ex65_graph = preprocess_tree(ex65_graph)\n",
    "\n",
    "# Start the timer.\n",
    "start_time = time.time()\n",
    "\n",
    "# Solve the problem.\n",
    "opt_cost, opt_cst = optimize_committed_service_times(ex65_graph)\n",
    "\n",
    "# Stop the timer.\n",
    "end_time = time.time()"
   ]
  },
  {
   "cell_type": "code",
   "execution_count": null,
   "metadata": {},
   "outputs": [],
   "source": [
    "# Get some other quantities based on the solution.\n",
    "SI = inbound_cst(ex65_graph, ex65_graph.nodes, opt_cst)\n",
    "nlt = net_lead_time(ex65_graph, ex65_graph.nodes, opt_cst)\n",
    "safety_stock = safety_stock_levels(ex65_graph, ex65_graph.nodes, opt_cst)\n",
    "base_stock = base_stock_levels(ex65_graph, ex65_graph.nodes, opt_cst)\n",
    "\n",
    "# Display the results.\n",
    "print('\\nSolved {:s} in {:.4f} seconds.'.format(ex65_graph.graph['problem_name'],\n",
    "\t\t\t\t\t\t\t\t\t\t\t  end_time - start_time))\n",
    "print('Optimal cost: {:.4f}'.format(opt_cost))\n",
    "print('Optimal solution:\\n')\n",
    "results = []\n",
    "for k in ex65_graph.nodes:\n",
    "\tresults.append([k, opt_cst[k], SI[k], nlt[k], safety_stock[k], base_stock[k]])\n",
    "print(tabulate.tabulate(results, headers=['Stage', 'S', 'SI', 'NLT', 'Safety Stock', 'Base-Stock Level']))"
   ]
  },
  {
   "cell_type": "markdown",
   "metadata": {},
   "source": [
    "## Instance #2: Figure 6.14"
   ]
  },
  {
   "cell_type": "code",
   "execution_count": null,
   "metadata": {},
   "outputs": [],
   "source": [
    "# Create DiGraph.\n",
    "fig614_graph = nx.DiGraph()\n",
    "\n",
    "# Add nodes.\n",
    "fig614_graph.add_node('Raw_Material', processing_time=2,\n",
    "\t\t\t\t\t\t\t  holding_cost=0.01)\n",
    "fig614_graph.add_node('Process_Wafers', processing_time=3,\n",
    "\t\t\t\t\t\t\t  holding_cost=0.03)\n",
    "fig614_graph.add_node('Package_Test_Wafers', processing_time=2,\n",
    "\t\t\t\t\t\t\t  holding_cost=0.04)\n",
    "fig614_graph.add_node('Imager_Base', processing_time=4,\n",
    "\t\t\t\t\t\t\t  holding_cost=0.06)\n",
    "fig614_graph.add_node('Imager_Assembly', processing_time=2,\n",
    "\t\t\t\t\t\t\t  holding_cost=0.12)\n",
    "fig614_graph.add_node('Ship_to_Final_Assembly', processing_time=3,\n",
    "\t\t\t\t\t\t\t  holding_cost=0.13)\n",
    "fig614_graph.add_node('Camera', processing_time=6,\n",
    "\t\t\t\t\t\t\t  holding_cost=0.20)\n",
    "fig614_graph.add_node('Circuit_Board', processing_time=4,\n",
    "\t\t\t\t\t\t\t  holding_cost=0.08)\n",
    "fig614_graph.add_node('Other_Parts', processing_time=3,\n",
    "\t\t\t\t\t\t\t  holding_cost=0.04)\n",
    "fig614_graph.add_node('Build_Test_Pack', processing_time=2,\n",
    "\t\t\t\t\t\t\t  holding_cost=0.50,\n",
    "\t\t\t\t\t\t\t  external_outbound_cst=2,\n",
    "\t\t\t\t\t\t\t  external_demand_standard_deviation=10,\n",
    "\t\t\t\t\t\t\t  demand_bound_constant=stats.norm.ppf(0.95))\n",
    "\n",
    "# Add edges.\n",
    "fig614_graph.add_edge('Raw_Material', 'Process_Wafers')\n",
    "fig614_graph.add_edge('Process_Wafers', 'Package_Test_Wafers')\n",
    "fig614_graph.add_edge('Package_Test_Wafers', 'Imager_Assembly')\n",
    "fig614_graph.add_edge('Imager_Base', 'Imager_Assembly')\n",
    "fig614_graph.add_edge('Imager_Assembly', 'Ship_to_Final_Assembly')\n",
    "fig614_graph.add_edge('Camera', 'Build_Test_Pack')\n",
    "fig614_graph.add_edge('Ship_to_Final_Assembly', 'Build_Test_Pack')\n",
    "fig614_graph.add_edge('Circuit_Board', 'Build_Test_Pack')\n",
    "fig614_graph.add_edge('Other_Parts', 'Build_Test_Pack')\n",
    "\n",
    "# Add problem name.\n",
    "fig614_graph.graph['problem_name'] = 'Figure 6.14 instance'"
   ]
  },
  {
   "cell_type": "code",
   "execution_count": null,
   "metadata": {},
   "outputs": [],
   "source": [
    "# Preprocess and solve.\n",
    "fig614_graph = preprocess_tree(fig614_graph)\n",
    "start_time = time.time()\n",
    "opt_cost, opt_cst = optimize_committed_service_times(fig614_graph)\n",
    "end_time = time.time()"
   ]
  },
  {
   "cell_type": "code",
   "execution_count": null,
   "metadata": {},
   "outputs": [],
   "source": [
    "# Get other outputs.\n",
    "SI = inbound_cst(fig614_graph, fig614_graph.nodes, opt_cst)\n",
    "nlt = net_lead_time(fig614_graph, fig614_graph.nodes, opt_cst)\n",
    "safety_stock = safety_stock_levels(fig614_graph, fig614_graph.nodes, opt_cst)\n",
    "base_stock = base_stock_levels(fig614_graph, fig614_graph.nodes, opt_cst)\n",
    "\n",
    "# Display the results.\n",
    "print('\\nSolved {:s} in {:.4f} seconds.'.format(fig614_graph.graph['problem_name'],\n",
    "\t\t\t\t\t\t\t\t\t\t\t  end_time - start_time))\n",
    "print('Optimal cost: {:.4f}'.format(opt_cost))\n",
    "print('Optimal solution:\\n')\n",
    "results = []\n",
    "for k in fig614_graph.nodes:\n",
    "\tresults.append([k, opt_cst[k], SI[k], nlt[k], safety_stock[k], base_stock[k]])\n",
    "print(tabulate.tabulate(results, headers=['Stage', 'S', 'SI', 'NLT', 'Safety Stock', 'Base-Stock Level']))"
   ]
  },
  {
   "cell_type": "markdown",
   "metadata": {},
   "source": [
    "## Instance #3: Yinan's counterexample"
   ]
  },
  {
   "cell_type": "code",
   "execution_count": null,
   "metadata": {},
   "outputs": [],
   "source": [
    "# Create DiGraph.\n",
    "yinan_graph = nx.DiGraph()\n",
    "\n",
    "# Add nodes.\n",
    "yinan_graph.add_node(1, processing_time=4,\n",
    "\t\t\t\t\texternal_inbound_cst=0,\n",
    "\t\t\t\t\tholding_cost=1,\n",
    "\t\t\t\t\tdemand_bound_constant=1)\n",
    "yinan_graph.add_node(2, processing_time=0,\n",
    "\t\t\t\t\tholding_cost=1.1,\n",
    "\t\t\t\t\tdemand_bound_constant=1,\n",
    "\t\t\t\t\texternal_outbound_cst=0,\n",
    "\t\t\t\t\texternal_demand_standard_deviation=1)\n",
    "yinan_graph.add_node(3, processing_time=2,\n",
    "\t\t\t\t\tholding_cost=1,\n",
    "\t\t\t\t\tdemand_bound_constant=1)\n",
    "yinan_graph.add_node(4, processing_time=0,\n",
    "\t\t\t\t\tholding_cost=100000,\n",
    "\t\t\t\t\tdemand_bound_constant=1,\n",
    "\t\t\t\t\texternal_outbound_cst=0,\n",
    "\t\t\t\t\texternal_demand_standard_deviation=1)\n",
    "\n",
    "# Add edges.\n",
    "yinan_graph.add_edge(1, 2)\n",
    "yinan_graph.add_edge(3, 2)\n",
    "yinan_graph.add_edge(3, 4)\n",
    "\n",
    "# Add graph label.\n",
    "yinan_graph.graph['problem_name'] = 'Yinan''s Counterexample'"
   ]
  },
  {
   "cell_type": "code",
   "execution_count": null,
   "metadata": {},
   "outputs": [],
   "source": [
    "# Preprocess and solve.\n",
    "yinan_graph = preprocess_tree(yinan_graph)\n",
    "start_time = time.time()\n",
    "opt_cost, opt_cst = optimize_committed_service_times(yinan_graph)\n",
    "end_time = time.time()"
   ]
  },
  {
   "cell_type": "code",
   "execution_count": null,
   "metadata": {},
   "outputs": [],
   "source": [
    "# Get other outputs.\n",
    "inbound_cst = inbound_cst(yinan_graph, yinan_graph.nodes, opt_cst)\n",
    "net_lead_time = net_lead_time(yinan_graph, yinan_graph.nodes, opt_cst)\n",
    "safety_stock = safety_stock_levels(yinan_graph, yinan_graph.nodes, opt_cst)\n",
    "base_stock = base_stock_levels(yinan_graph, yinan_graph.nodes, opt_cst)\n",
    "\n",
    "# Display the results.\n",
    "print('\\nSolved {:s} in {:.4f} seconds.'.format(yinan_graph.graph['problem_name'],\n",
    "\t\t\t\t\t\t\t\t\t\t\t  end_time - start_time))\n",
    "print('Optimal cost: {:.4f}'.format(opt_cost))\n",
    "print('Optimal solution:\\n')\n",
    "results = []\n",
    "for k in yinan_graph.nodes:\n",
    "\tresults.append([k, opt_cst[k], inbound_cst[k], net_lead_time[k], safety_stock[k], base_stock[k]])\n",
    "print(tabulate.tabulate(results, headers=['Stage', 'S', 'SI', 'NLT', 'Safety Stock', 'Base-Stock Level']))"
   ]
  },
  {
   "cell_type": "code",
   "execution_count": null,
   "metadata": {},
   "outputs": [],
   "source": []
  }
 ],
 "metadata": {
  "kernelspec": {
   "display_name": "Python 3",
   "language": "python",
   "name": "python3"
  },
  "language_info": {
   "codemirror_mode": {
    "name": "ipython",
    "version": 3
   },
   "file_extension": ".py",
   "mimetype": "text/x-python",
   "name": "python",
   "nbconvert_exporter": "python",
   "pygments_lexer": "ipython3",
   "version": "3.6.8"
  }
 },
 "nbformat": 4,
 "nbformat_minor": 1
}
