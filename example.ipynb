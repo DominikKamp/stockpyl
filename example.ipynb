{
 "cells": [
  {
   "cell_type": "code",
   "execution_count": 1,
   "metadata": {},
   "outputs": [],
   "source": [
    "import time\n",
    "import tabulate\n",
    "from scipy import stats\n",
    "\n",
    "import sys \n",
    "sys.path.append(\"/Users/larry/Documents/GitHubProjects/inventory\") \n",
    "\n",
    "from inventory.gsm_tree import *"
   ]
  },
  {
   "cell_type": "markdown",
   "metadata": {},
   "source": [
    "## Introduction\n",
    "\n",
    "This script contains examples to demonstrate the use of `gsm_tree.py,` which implements the\n",
    "dynamic programming algorithm for the guaranteed-service model (GSM)\n",
    "for multi-echelon inventory systems with tree structures by Graves and Willems (2000).\n",
    "\n",
    "'node' and 'stage' are used interchangeably in the documentation.\n",
    "\n",
    "The primary data object is the `NetworkX DiGraph`, which contains all of the data\n",
    "for the GSM instance. The following attributes are used to specify input data:\n",
    "* Node-level attributes\n",
    "    - processing_time [T]\n",
    "    - external_inbound_cst [si]\n",
    "    - external_outbound_cst [s]\n",
    "    - holding_cost [h]\n",
    "    - demand_bound_constant [z_alpha]\n",
    "    - external_demand_mean [mu]\n",
    "    - external_demand_standard_deviation [sigma]\n",
    "* Edge-level attributes\n",
    "    - units_required (e.g., on edge i->j, units_required units of item i are\n",
    "required to make 1 unit of item j)\n",
    "\n",
    "When adding nodes using `nx.DiGraph.add_node()`, you can add attributes as\n",
    "arguments to `add_node()`. Subsequently, to get or set node attributes, the node\n",
    "is treated like a dict with the attributes as keys (as strings), so use\n",
    "`node['holding_cost']`, etc.\n",
    "\n",
    "(c) Lawrence V. Snyder\n",
    "Lehigh University and Opex Analytics"
   ]
  },
  {
   "cell_type": "markdown",
   "metadata": {},
   "source": [
    "## Instance #1: Example 6.5"
   ]
  },
  {
   "cell_type": "code",
   "execution_count": 2,
   "metadata": {},
   "outputs": [],
   "source": [
    "# Create a new DiGraph object.\n",
    "ex65_graph = nx.DiGraph()\n",
    "\n",
    "# Add nodes, with the relevant attributes. Attributes are specified as\n",
    "# arguments to add_node().\n",
    "ex65_graph.add_node(1, processing_time=2,\n",
    "\t\t\t\t\texternal_inbound_cst=1,\n",
    "\t\t\t\t\tholding_cost=1,\n",
    "\t\t\t\t\tdemand_bound_constant=1)\n",
    "ex65_graph.add_node(2, processing_time=1,\n",
    "\t\t\t\t\texternal_outbound_cst=0,\n",
    "\t\t\t\t\tholding_cost=3,\n",
    "\t\t\t\t\tdemand_bound_constant=1,\n",
    "\t\t\t\t\texternal_demand_standard_deviation=1)\n",
    "ex65_graph.add_node(3, processing_time=1,\n",
    "\t\t\t\t\tholding_cost=2,\n",
    "\t\t\t\t\tdemand_bound_constant=1)\n",
    "ex65_graph.add_node(4, processing_time=1,\n",
    "\t\t\t\t\texternal_outbound_cst=1,\n",
    "\t\t\t\t\tholding_cost=3,\n",
    "\t\t\t\t\tdemand_bound_constant=1,\n",
    "\t\t\t\t\texternal_demand_standard_deviation=1)\n",
    "\n",
    "# Add edges. (units_required is the only edge attribute, but we don't need\n",
    "# it here because it equals 1 for every edge.)\n",
    "ex65_graph.add_edge(1, 3)\n",
    "ex65_graph.add_edge(3, 2)\n",
    "ex65_graph.add_edge(3, 4)\n",
    "\n",
    "# We can add any arbitrary attributes we want to the graph, nodes, and edges.\n",
    "# Here, we'll add a label to the graph.\n",
    "ex65_graph.graph['problem_name'] = 'Example 6.5 instance'"
   ]
  },
  {
   "cell_type": "code",
   "execution_count": 3,
   "metadata": {},
   "outputs": [],
   "source": [
    "# We have to preprocess the graph before we can solve the model or perform\n",
    "# other functions. Preprocessing calculates some intermediate quantities, fills\n",
    "# in some missing attributes, etc. Note that preprocess_tree() returns a new graph,\n",
    "# it does not modify the original graph. In the line below, we just replace the\n",
    "# old one with the new one.\n",
    "ex65_graph = preprocess_tree(ex65_graph)\n",
    "\n",
    "# Start the timer.\n",
    "start_time = time.time()\n",
    "\n",
    "# Solve the problem.\n",
    "opt_cost, opt_cst = optimize_committed_service_times(ex65_graph)\n",
    "\n",
    "# Stop the timer.\n",
    "end_time = time.time()"
   ]
  },
  {
   "cell_type": "code",
   "execution_count": 4,
   "metadata": {},
   "outputs": [
    {
     "name": "stdout",
     "output_type": "stream",
     "text": [
      "\n",
      "Solved Example 6.5 instance in 0.0013 seconds.\n",
      "Optimal cost: 8.2779\n",
      "Optimal solution:\n",
      "\n",
      "  Stage    S    SI    NLT    Safety Stock    Base-Stock Level\n",
      "-------  ---  ----  -----  --------------  ------------------\n",
      "      1    0     1      3         2.44949             2.44949\n",
      "      2    0     0      1         1                   1\n",
      "      3    0     0      1         1.41421             1.41421\n",
      "      4    1     0      0         0                   0\n"
     ]
    }
   ],
   "source": [
    "# Get some other quantities based on the solution.\n",
    "SI = inbound_cst(ex65_graph, ex65_graph.nodes, opt_cst)\n",
    "nlt = net_lead_time(ex65_graph, ex65_graph.nodes, opt_cst)\n",
    "safety_stock = safety_stock_levels(ex65_graph, ex65_graph.nodes, opt_cst)\n",
    "base_stock = base_stock_levels(ex65_graph, ex65_graph.nodes, opt_cst)\n",
    "\n",
    "# Display the results.\n",
    "print('\\nSolved {:s} in {:.4f} seconds.'.format(ex65_graph.graph['problem_name'],\n",
    "\t\t\t\t\t\t\t\t\t\t\t  end_time - start_time))\n",
    "print('Optimal cost: {:.4f}'.format(opt_cost))\n",
    "print('Optimal solution:\\n')\n",
    "results = []\n",
    "for k in ex65_graph.nodes:\n",
    "\tresults.append([k, opt_cst[k], SI[k], nlt[k], safety_stock[k], base_stock[k]])\n",
    "print(tabulate.tabulate(results, headers=['Stage', 'S', 'SI', 'NLT', 'Safety Stock', 'Base-Stock Level']))"
   ]
  },
  {
   "cell_type": "markdown",
   "metadata": {},
   "source": [
    "## Instance #2: Figure 6.14"
   ]
  },
  {
   "cell_type": "code",
   "execution_count": 5,
   "metadata": {},
   "outputs": [],
   "source": [
    "# Create DiGraph.\n",
    "fig614_graph = nx.DiGraph()\n",
    "\n",
    "# Add nodes.\n",
    "fig614_graph.add_node('Raw_Material', processing_time=2,\n",
    "\t\t\t\t\t\t\t  holding_cost=0.01)\n",
    "fig614_graph.add_node('Process_Wafers', processing_time=3,\n",
    "\t\t\t\t\t\t\t  holding_cost=0.03)\n",
    "fig614_graph.add_node('Package_Test_Wafers', processing_time=2,\n",
    "\t\t\t\t\t\t\t  holding_cost=0.04)\n",
    "fig614_graph.add_node('Imager_Base', processing_time=4,\n",
    "\t\t\t\t\t\t\t  holding_cost=0.06)\n",
    "fig614_graph.add_node('Imager_Assembly', processing_time=2,\n",
    "\t\t\t\t\t\t\t  holding_cost=0.12)\n",
    "fig614_graph.add_node('Ship_to_Final_Assembly', processing_time=3,\n",
    "\t\t\t\t\t\t\t  holding_cost=0.13)\n",
    "fig614_graph.add_node('Camera', processing_time=6,\n",
    "\t\t\t\t\t\t\t  holding_cost=0.20)\n",
    "fig614_graph.add_node('Circuit_Board', processing_time=4,\n",
    "\t\t\t\t\t\t\t  holding_cost=0.08)\n",
    "fig614_graph.add_node('Other_Parts', processing_time=3,\n",
    "\t\t\t\t\t\t\t  holding_cost=0.04)\n",
    "fig614_graph.add_node('Build_Test_Pack', processing_time=2,\n",
    "\t\t\t\t\t\t\t  holding_cost=0.50,\n",
    "\t\t\t\t\t\t\t  external_outbound_cst=2,\n",
    "\t\t\t\t\t\t\t  external_demand_standard_deviation=10,\n",
    "\t\t\t\t\t\t\t  demand_bound_constant=stats.norm.ppf(0.95))\n",
    "\n",
    "# Add edges.\n",
    "fig614_graph.add_edge('Raw_Material', 'Process_Wafers')\n",
    "fig614_graph.add_edge('Process_Wafers', 'Package_Test_Wafers')\n",
    "fig614_graph.add_edge('Package_Test_Wafers', 'Imager_Assembly')\n",
    "fig614_graph.add_edge('Imager_Base', 'Imager_Assembly')\n",
    "fig614_graph.add_edge('Imager_Assembly', 'Ship_to_Final_Assembly')\n",
    "fig614_graph.add_edge('Camera', 'Build_Test_Pack')\n",
    "fig614_graph.add_edge('Ship_to_Final_Assembly', 'Build_Test_Pack')\n",
    "fig614_graph.add_edge('Circuit_Board', 'Build_Test_Pack')\n",
    "fig614_graph.add_edge('Other_Parts', 'Build_Test_Pack')\n",
    "\n",
    "# Add problem name.\n",
    "fig614_graph.graph['problem_name'] = 'Figure 6.14 instance'"
   ]
  },
  {
   "cell_type": "code",
   "execution_count": 6,
   "metadata": {},
   "outputs": [],
   "source": [
    "# Preprocess and solve.\n",
    "fig614_graph = preprocess_tree(fig614_graph)\n",
    "start_time = time.time()\n",
    "opt_cost, opt_cst = optimize_committed_service_times(fig614_graph)\n",
    "end_time = time.time()"
   ]
  },
  {
   "cell_type": "code",
   "execution_count": 7,
   "metadata": {},
   "outputs": [
    {
     "name": "stdout",
     "output_type": "stream",
     "text": [
      "\n",
      "Solved Figure 6.14 instance in 0.0072 seconds.\n",
      "Optimal cost: 18.8240\n",
      "Optimal solution:\n",
      "\n",
      "Stage                     S    SI    NLT    Safety Stock    Base-Stock Level\n",
      "----------------------  ---  ----  -----  --------------  ------------------\n",
      "Raw_Material              0     0      2         23.2617             23.2617\n",
      "Process_Wafers            3     0      0          0                   0\n",
      "Package_Test_Wafers       5     3      0          0                   0\n",
      "Imager_Base               4     0      0          0                   0\n",
      "Imager_Assembly           7     5      0          0                   0\n",
      "Ship_to_Final_Assembly    0     7     10         52.0148             52.0148\n",
      "Camera                    0     0      6         40.2905             40.2905\n",
      "Circuit_Board             0     0      4         32.8971             32.8971\n",
      "Other_Parts               0     0      3         28.4897             28.4897\n",
      "Build_Test_Pack           2     0      0          0                   0\n"
     ]
    }
   ],
   "source": [
    "# Get other outputs.\n",
    "SI = inbound_cst(fig614_graph, fig614_graph.nodes, opt_cst)\n",
    "nlt = net_lead_time(fig614_graph, fig614_graph.nodes, opt_cst)\n",
    "safety_stock = safety_stock_levels(fig614_graph, fig614_graph.nodes, opt_cst)\n",
    "base_stock = base_stock_levels(fig614_graph, fig614_graph.nodes, opt_cst)\n",
    "\n",
    "# Display the results.\n",
    "print('\\nSolved {:s} in {:.4f} seconds.'.format(fig614_graph.graph['problem_name'],\n",
    "\t\t\t\t\t\t\t\t\t\t\t  end_time - start_time))\n",
    "print('Optimal cost: {:.4f}'.format(opt_cost))\n",
    "print('Optimal solution:\\n')\n",
    "results = []\n",
    "for k in fig614_graph.nodes:\n",
    "\tresults.append([k, opt_cst[k], SI[k], nlt[k], safety_stock[k], base_stock[k]])\n",
    "print(tabulate.tabulate(results, headers=['Stage', 'S', 'SI', 'NLT', 'Safety Stock', 'Base-Stock Level']))"
   ]
  },
  {
   "cell_type": "markdown",
   "metadata": {},
   "source": [
    "## Instance #3: Yinan's counterexample"
   ]
  },
  {
   "cell_type": "code",
   "execution_count": 8,
   "metadata": {},
   "outputs": [],
   "source": [
    "# Create DiGraph.\n",
    "yinan_graph = nx.DiGraph()\n",
    "\n",
    "# Add nodes.\n",
    "yinan_graph.add_node(1, processing_time=4,\n",
    "\t\t\t\t\texternal_inbound_cst=0,\n",
    "\t\t\t\t\tholding_cost=1,\n",
    "\t\t\t\t\tdemand_bound_constant=1)\n",
    "yinan_graph.add_node(2, processing_time=0,\n",
    "\t\t\t\t\tholding_cost=1.1,\n",
    "\t\t\t\t\tdemand_bound_constant=1,\n",
    "\t\t\t\t\texternal_outbound_cst=0,\n",
    "\t\t\t\t\texternal_demand_standard_deviation=1)\n",
    "yinan_graph.add_node(3, processing_time=2,\n",
    "\t\t\t\t\tholding_cost=1,\n",
    "\t\t\t\t\tdemand_bound_constant=1)\n",
    "yinan_graph.add_node(4, processing_time=0,\n",
    "\t\t\t\t\tholding_cost=100000,\n",
    "\t\t\t\t\tdemand_bound_constant=1,\n",
    "\t\t\t\t\texternal_outbound_cst=0,\n",
    "\t\t\t\t\texternal_demand_standard_deviation=1)\n",
    "\n",
    "# Add edges.\n",
    "yinan_graph.add_edge(1, 2)\n",
    "yinan_graph.add_edge(3, 2)\n",
    "yinan_graph.add_edge(3, 4)\n",
    "\n",
    "# Add graph label.\n",
    "yinan_graph.graph['problem_name'] = 'Yinan''s Counterexample'"
   ]
  },
  {
   "cell_type": "code",
   "execution_count": 9,
   "metadata": {},
   "outputs": [],
   "source": [
    "# Preprocess and solve.\n",
    "yinan_graph = preprocess_tree(yinan_graph)\n",
    "start_time = time.time()\n",
    "opt_cost, opt_cst = optimize_committed_service_times(yinan_graph)\n",
    "end_time = time.time()"
   ]
  },
  {
   "cell_type": "code",
   "execution_count": 10,
   "metadata": {},
   "outputs": [
    {
     "name": "stdout",
     "output_type": "stream",
     "text": [
      "\n",
      "Solved Yinans Counterexample in 0.0011 seconds.\n",
      "Optimal cost: 4.0000\n",
      "Optimal solution:\n",
      "\n",
      "  Stage    S    SI    NLT    Safety Stock    Base-Stock Level\n",
      "-------  ---  ----  -----  --------------  ------------------\n",
      "      1    0     0      4               2                   2\n",
      "      2    0     0      0               0                   0\n",
      "      3    0     0      2               2                   2\n",
      "      4    0     0      0               0                   0\n"
     ]
    }
   ],
   "source": [
    "# Get other outputs.\n",
    "inbound_cst = inbound_cst(yinan_graph, yinan_graph.nodes, opt_cst)\n",
    "net_lead_time = net_lead_time(yinan_graph, yinan_graph.nodes, opt_cst)\n",
    "safety_stock = safety_stock_levels(yinan_graph, yinan_graph.nodes, opt_cst)\n",
    "base_stock = base_stock_levels(yinan_graph, yinan_graph.nodes, opt_cst)\n",
    "\n",
    "# Display the results.\n",
    "print('\\nSolved {:s} in {:.4f} seconds.'.format(yinan_graph.graph['problem_name'],\n",
    "\t\t\t\t\t\t\t\t\t\t\t  end_time - start_time))\n",
    "print('Optimal cost: {:.4f}'.format(opt_cost))\n",
    "print('Optimal solution:\\n')\n",
    "results = []\n",
    "for k in yinan_graph.nodes:\n",
    "\tresults.append([k, opt_cst[k], inbound_cst[k], net_lead_time[k], safety_stock[k], base_stock[k]])\n",
    "print(tabulate.tabulate(results, headers=['Stage', 'S', 'SI', 'NLT', 'Safety Stock', 'Base-Stock Level']))"
   ]
  },
  {
   "cell_type": "code",
   "execution_count": null,
   "metadata": {},
   "outputs": [],
   "source": []
  }
 ],
 "metadata": {
  "kernelspec": {
   "display_name": "Python 3",
   "language": "python",
   "name": "python3"
  },
  "language_info": {
   "codemirror_mode": {
    "name": "ipython",
    "version": 3
   },
   "file_extension": ".py",
   "mimetype": "text/x-python",
   "name": "python",
   "nbconvert_exporter": "python",
   "pygments_lexer": "ipython3",
   "version": "3.6.8"
  }
 },
 "nbformat": 4,
 "nbformat_minor": 1
}
